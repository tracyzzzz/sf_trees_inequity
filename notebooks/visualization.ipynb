{
 "cells": [
  {
   "cell_type": "code",
   "execution_count": 1,
   "id": "02da76f3-c947-49cc-886a-dfbead83c77f",
   "metadata": {
    "tags": []
   },
   "outputs": [],
   "source": [
    "import pandas as pd\n",
    "import altair as alt"
   ]
  },
  {
   "cell_type": "code",
   "execution_count": 4,
   "id": "8ea7cb85-574f-424d-9f33-ec05fc6e9839",
   "metadata": {
    "tags": []
   },
   "outputs": [],
   "source": [
    "source = pd.read_csv('/Users/tracy/sf_trees/data/processed/existing_counts.csv')"
   ]
  },
  {
   "cell_type": "code",
   "execution_count": 5,
   "id": "63bf65c5-a156-4630-b9d8-05c59acd66a7",
   "metadata": {
    "tags": []
   },
   "outputs": [],
   "source": [
    "source1 = source.loc[source['E_TOTPOP'] >= 3500]"
   ]
  },
  {
   "cell_type": "code",
   "execution_count": 6,
   "id": "39ba745d-a432-4147-ba76-b1ae2ae4ae86",
   "metadata": {
    "tags": []
   },
   "outputs": [
    {
     "name": "stdout",
     "output_type": "stream",
     "text": [
      "<class 'pandas.core.frame.DataFrame'>\n",
      "Int64Index: 128 entries, 4 to 232\n",
      "Data columns (total 14 columns):\n",
      " #   Column         Non-Null Count  Dtype  \n",
      "---  ------         --------------  -----  \n",
      " 0   GEOID          128 non-null    int64  \n",
      " 1   tree_counts    128 non-null    int64  \n",
      " 2   AREA_SQMI      128 non-null    float64\n",
      " 3   E_TOTPOP       128 non-null    float64\n",
      " 4   SOCIO          128 non-null    float64\n",
      " 5   RACE           128 non-null    float64\n",
      " 6   HOUSING        128 non-null    float64\n",
      " 7   SVI            128 non-null    float64\n",
      " 8   SVI_rank       128 non-null    float64\n",
      " 9   SOCIO_rank     128 non-null    float64\n",
      " 10  HOUSING_rank   128 non-null    float64\n",
      " 11  RACE_rank      128 non-null    float64\n",
      " 12  neighborho     128 non-null    object \n",
      " 13  tree_per_acre  128 non-null    float64\n",
      "dtypes: float64(11), int64(2), object(1)\n",
      "memory usage: 15.0+ KB\n"
     ]
    }
   ],
   "source": [
    "source1.info()"
   ]
  },
  {
   "cell_type": "code",
   "execution_count": 11,
   "id": "f48799dd-1164-41e7-9c15-04fc56bdbcb8",
   "metadata": {
    "tags": []
   },
   "outputs": [],
   "source": [
    "base = alt.Chart(source1).mark_circle(size=60).encode(\n",
    "    x='SVI_rank',\n",
    "    y='tree_per_acre')"
   ]
  },
  {
   "cell_type": "code",
   "execution_count": 12,
   "id": "0758f5bf-5e9d-471a-9b13-635dfa16f104",
   "metadata": {
    "tags": []
   },
   "outputs": [],
   "source": [
    "points= base.encode(    \n",
    "    color='neighborho',\n",
    "    tooltip=['GEOID', 'E_TOTPOP', 'SVI_rank', 'tree_per_acre']\n",
    ").interactive()"
   ]
  },
  {
   "cell_type": "code",
   "execution_count": 13,
   "id": "132420cc-8e9d-43c8-8303-cd9eb1325362",
   "metadata": {
    "tags": []
   },
   "outputs": [
    {
     "data": {
      "text/html": [
       "\n",
       "<div id=\"altair-viz-4175b1d76a634d6f93f1d5d56aaced8d\"></div>\n",
       "<script type=\"text/javascript\">\n",
       "  var VEGA_DEBUG = (typeof VEGA_DEBUG == \"undefined\") ? {} : VEGA_DEBUG;\n",
       "  (function(spec, embedOpt){\n",
       "    let outputDiv = document.currentScript.previousElementSibling;\n",
       "    if (outputDiv.id !== \"altair-viz-4175b1d76a634d6f93f1d5d56aaced8d\") {\n",
       "      outputDiv = document.getElementById(\"altair-viz-4175b1d76a634d6f93f1d5d56aaced8d\");\n",
       "    }\n",
       "    const paths = {\n",
       "      \"vega\": \"https://cdn.jsdelivr.net/npm//vega@5?noext\",\n",
       "      \"vega-lib\": \"https://cdn.jsdelivr.net/npm//vega-lib?noext\",\n",
       "      \"vega-lite\": \"https://cdn.jsdelivr.net/npm//vega-lite@4.17.0?noext\",\n",
       "      \"vega-embed\": \"https://cdn.jsdelivr.net/npm//vega-embed@6?noext\",\n",
       "    };\n",
       "\n",
       "    function maybeLoadScript(lib, version) {\n",
       "      var key = `${lib.replace(\"-\", \"\")}_version`;\n",
       "      return (VEGA_DEBUG[key] == version) ?\n",
       "        Promise.resolve(paths[lib]) :\n",
       "        new Promise(function(resolve, reject) {\n",
       "          var s = document.createElement('script');\n",
       "          document.getElementsByTagName(\"head\")[0].appendChild(s);\n",
       "          s.async = true;\n",
       "          s.onload = () => {\n",
       "            VEGA_DEBUG[key] = version;\n",
       "            return resolve(paths[lib]);\n",
       "          };\n",
       "          s.onerror = () => reject(`Error loading script: ${paths[lib]}`);\n",
       "          s.src = paths[lib];\n",
       "        });\n",
       "    }\n",
       "\n",
       "    function showError(err) {\n",
       "      outputDiv.innerHTML = `<div class=\"error\" style=\"color:red;\">${err}</div>`;\n",
       "      throw err;\n",
       "    }\n",
       "\n",
       "    function displayChart(vegaEmbed) {\n",
       "      vegaEmbed(outputDiv, spec, embedOpt)\n",
       "        .catch(err => showError(`Javascript Error: ${err.message}<br>This usually means there's a typo in your chart specification. See the javascript console for the full traceback.`));\n",
       "    }\n",
       "\n",
       "    if(typeof define === \"function\" && define.amd) {\n",
       "      requirejs.config({paths});\n",
       "      require([\"vega-embed\"], displayChart, err => showError(`Error loading script: ${err.message}`));\n",
       "    } else {\n",
       "      maybeLoadScript(\"vega\", \"5\")\n",
       "        .then(() => maybeLoadScript(\"vega-lite\", \"4.17.0\"))\n",
       "        .then(() => maybeLoadScript(\"vega-embed\", \"6\"))\n",
       "        .catch(showError)\n",
       "        .then(() => displayChart(vegaEmbed));\n",
       "    }\n",
       "  })({\"config\": {\"view\": {\"continuousWidth\": 400, \"continuousHeight\": 300}}, \"layer\": [{\"mark\": {\"type\": \"circle\", \"size\": 60}, \"encoding\": {\"color\": {\"field\": \"neighborho\", \"type\": \"nominal\"}, \"tooltip\": [{\"field\": \"GEOID\", \"type\": \"quantitative\"}, {\"field\": \"E_TOTPOP\", \"type\": \"quantitative\"}, {\"field\": \"SVI_rank\", \"type\": \"quantitative\"}, {\"field\": \"tree_per_acre\", \"type\": \"quantitative\"}], \"x\": {\"field\": \"SVI_rank\", \"type\": \"quantitative\"}, \"y\": {\"field\": \"tree_per_acre\", \"type\": \"quantitative\"}}, \"selection\": {\"selector003\": {\"type\": \"interval\", \"bind\": \"scales\", \"encodings\": [\"x\", \"y\"]}, \"selector004\": {\"type\": \"interval\", \"bind\": \"scales\", \"encodings\": [\"x\", \"y\"]}}}, {\"mark\": \"line\", \"encoding\": {\"x\": {\"field\": \"SVI_rank\", \"type\": \"quantitative\"}, \"y\": {\"field\": \"tree_per_acre\", \"type\": \"quantitative\"}}, \"transform\": [{\"on\": \"SVI_rank\", \"regression\": \"tree_per_acre\"}]}], \"data\": {\"name\": \"data-227a7f3053435f35472b24b9fc0fed49\"}, \"$schema\": \"https://vega.github.io/schema/vega-lite/v4.17.0.json\", \"datasets\": {\"data-227a7f3053435f35472b24b9fc0fed49\": [{\"GEOID\": 6075010300, \"tree_counts\": 597, \"AREA_SQMI\": 0.103576109, \"E_TOTPOP\": 4282.0, \"SOCIO\": 0.9703, \"RACE\": 0.2204, \"HOUSING\": 1.9109, \"SVI\": 5.4637, \"SVI_rank\": 0.318, \"SOCIO_rank\": 0.2678, \"HOUSING_rank\": 0.1542, \"RACE_rank\": 0.1867, \"neighborho\": \"Russian Hill\", \"tree_per_acre\": 9.006058530350854}, {\"GEOID\": 6075010701, \"tree_counts\": 59, \"AREA_SQMI\": 0.037824096, \"E_TOTPOP\": 3800.0, \"SOCIO\": 3.8376, \"RACE\": 0.9381, \"HOUSING\": 3.6111, \"SVI\": 11.5121, \"SVI_rank\": 1.0, \"SOCIO_rank\": 0.9791, \"HOUSING_rank\": 0.9333, \"RACE_rank\": 0.9917, \"neighborho\": \"Chinatown\", \"tree_per_acre\": 2.437269088995544}, {\"GEOID\": 6075010800, \"tree_counts\": 426, \"AREA_SQMI\": 0.087286851, \"E_TOTPOP\": 5013.0, \"SOCIO\": 1.8277, \"RACE\": 0.3926, \"HOUSING\": 2.1579, \"SVI\": 6.4994, \"SVI_rank\": 0.4812, \"SOCIO_rank\": 0.5523, \"HOUSING_rank\": 0.2625, \"RACE_rank\": 0.4025, \"neighborho\": \"Nob Hill\", \"tree_per_acre\": 7.625719021528226}, {\"GEOID\": 6075012100, \"tree_counts\": 121, \"AREA_SQMI\": 0.04764267, \"E_TOTPOP\": 3586.0, \"SOCIO\": 2.1934, \"RACE\": 0.3812, \"HOUSING\": 3.5002, \"SVI\": 6.8258, \"SVI_rank\": 0.5146, \"SOCIO_rank\": 0.6904, \"HOUSING_rank\": 0.9042, \"RACE_rank\": 0.3859, \"neighborho\": \"Nob Hill\", \"tree_per_acre\": 3.968343923629805}, {\"GEOID\": 6075012502, \"tree_counts\": 62, \"AREA_SQMI\": 0.0236584, \"E_TOTPOP\": 4034.0, \"SOCIO\": 3.8179, \"RACE\": 0.712, \"HOUSING\": 3.7592, \"SVI\": 11.2784, \"SVI_rank\": 0.9916, \"SOCIO_rank\": 0.9749, \"HOUSING_rank\": 0.975, \"RACE_rank\": 0.8423, \"neighborho\": \"Tenderloin\", \"tree_per_acre\": 4.094740134582221}, {\"GEOID\": 6075012503, \"tree_counts\": 148, \"AREA_SQMI\": 0.042056546, \"E_TOTPOP\": 3600.0, \"SOCIO\": 3.891, \"RACE\": 0.6341, \"HOUSING\": 3.856, \"SVI\": 11.1545, \"SVI_rank\": 0.9874, \"SOCIO_rank\": 0.9833, \"HOUSING_rank\": 0.9833, \"RACE_rank\": 0.7884, \"neighborho\": \"Tenderloin\", \"tree_per_acre\": 5.498549500474908}, {\"GEOID\": 6075012700, \"tree_counts\": 724, \"AREA_SQMI\": 0.172710761, \"E_TOTPOP\": 3970.0, \"SOCIO\": 0.6963, \"RACE\": 0.066, \"HOUSING\": 1.7589, \"SVI\": 3.4353, \"SVI_rank\": 0.0586, \"SOCIO_rank\": 0.1339, \"HOUSING_rank\": 0.1083, \"RACE_rank\": 0.0249, \"neighborho\": \"Marina\", \"tree_per_acre\": 6.549968244306445}, {\"GEOID\": 6075013101, \"tree_counts\": 279, \"AREA_SQMI\": 0.066807615, \"E_TOTPOP\": 3775.0, \"SOCIO\": 0.7003, \"RACE\": 0.1646, \"HOUSING\": 3.2016, \"SVI\": 4.7173, \"SVI_rank\": 0.1883, \"SOCIO_rank\": 0.1423, \"HOUSING_rank\": 0.8292, \"RACE_rank\": 0.1224, \"neighborho\": \"Pacific Heights\", \"tree_per_acre\": 6.52526661818417}, {\"GEOID\": 6075013200, \"tree_counts\": 1807, \"AREA_SQMI\": 0.211071925, \"E_TOTPOP\": 4477.0, \"SOCIO\": 0.6032, \"RACE\": 0.1803, \"HOUSING\": 2.4027, \"SVI\": 4.295, \"SVI_rank\": 0.1297, \"SOCIO_rank\": 0.1046, \"HOUSING_rank\": 0.3896, \"RACE_rank\": 0.1494, \"neighborho\": \"Pacific Heights\", \"tree_per_acre\": 13.376660586195914}, {\"GEOID\": 6075013300, \"tree_counts\": 1877, \"AREA_SQMI\": 0.224443023, \"E_TOTPOP\": 4487.0, \"SOCIO\": 1.1215, \"RACE\": 0.1072, \"HOUSING\": 2.9754, \"SVI\": 7.0071, \"SVI_rank\": 0.523, \"SOCIO_rank\": 0.3347, \"HOUSING_rank\": 0.7, \"RACE_rank\": 0.0622, \"neighborho\": \"Presidio Heights\", \"tree_per_acre\": 13.0670691420869}, {\"GEOID\": 6075015500, \"tree_counts\": 685, \"AREA_SQMI\": 0.120520967, \"E_TOTPOP\": 3624.0, \"SOCIO\": 1.6762, \"RACE\": 0.4412, \"HOUSING\": 3.151, \"SVI\": 8.1668, \"SVI_rank\": 0.7699, \"SOCIO_rank\": 0.4979, \"HOUSING_rank\": 0.7917, \"RACE_rank\": 0.4938, \"neighborho\": \"Japantown\", \"tree_per_acre\": 8.880716166175466}, {\"GEOID\": 6075015701, \"tree_counts\": 476, \"AREA_SQMI\": 0.185024326, \"E_TOTPOP\": 5318.0, \"SOCIO\": 2.2264, \"RACE\": 0.4264, \"HOUSING\": 3.2459, \"SVI\": 6.6304, \"SVI_rank\": 0.4895, \"SOCIO_rank\": 0.7155, \"HOUSING_rank\": 0.8333, \"RACE_rank\": 0.4523, \"neighborho\": \"Lone Mountain/USF\", \"tree_per_acre\": 4.019741706828323}, {\"GEOID\": 6075015802, \"tree_counts\": 347, \"AREA_SQMI\": 0.065924214, \"E_TOTPOP\": 3613.0, \"SOCIO\": 1.1179, \"RACE\": 0.253, \"HOUSING\": 3.106, \"SVI\": 5.0725, \"SVI_rank\": 0.2469, \"SOCIO_rank\": 0.3305, \"HOUSING_rank\": 0.775, \"RACE_rank\": 0.2199, \"neighborho\": \"Western Addition\", \"tree_per_acre\": 8.224405982299615}, {\"GEOID\": 6075015900, \"tree_counts\": 475, \"AREA_SQMI\": 0.114122871, \"E_TOTPOP\": 4652.0, \"SOCIO\": 2.1668, \"RACE\": 0.6249, \"HOUSING\": 4.0795, \"SVI\": 9.275, \"SVI_rank\": 0.8661, \"SOCIO_rank\": 0.682, \"HOUSING_rank\": 0.9917, \"RACE_rank\": 0.7697, \"neighborho\": \"Western Addition\", \"tree_per_acre\": 6.503407191710065}, {\"GEOID\": 6075016300, \"tree_counts\": 692, \"AREA_SQMI\": 0.094929354, \"E_TOTPOP\": 4528.0, \"SOCIO\": 1.4004, \"RACE\": 0.2926, \"HOUSING\": 3.8471, \"SVI\": 6.8094, \"SVI_rank\": 0.5105, \"SOCIO_rank\": 0.4059, \"HOUSING_rank\": 0.9792, \"RACE_rank\": 0.2448, \"neighborho\": \"Hayes Valley\", \"tree_per_acre\": 11.39004906743598}, {\"GEOID\": 6075016400, \"tree_counts\": 500, \"AREA_SQMI\": 0.119343742, \"E_TOTPOP\": 3999.0, \"SOCIO\": 0.7383, \"RACE\": 0.1761, \"HOUSING\": 3.0297, \"SVI\": 4.6178, \"SVI_rank\": 0.1757, \"SOCIO_rank\": 0.1674, \"HOUSING_rank\": 0.7333, \"RACE_rank\": 0.1369, \"neighborho\": \"Hayes Valley\", \"tree_per_acre\": 6.546216725800336}, {\"GEOID\": 6075016500, \"tree_counts\": 646, \"AREA_SQMI\": 0.143029941, \"E_TOTPOP\": 5654.0, \"SOCIO\": 1.453, \"RACE\": 0.1608, \"HOUSING\": 3.1978, \"SVI\": 5.8966, \"SVI_rank\": 0.3975, \"SOCIO_rank\": 0.4226, \"HOUSING_rank\": 0.8208, \"RACE_rank\": 0.11, \"neighborho\": \"Lone Mountain/USF\", \"tree_per_acre\": 7.057088837084818}, {\"GEOID\": 6075016700, \"tree_counts\": 752, \"AREA_SQMI\": 0.189459093, \"E_TOTPOP\": 5427.0, \"SOCIO\": 0.6467, \"RACE\": 0.1608, \"HOUSING\": 2.6375, \"SVI\": 4.1441, \"SVI_rank\": 0.1046, \"SOCIO_rank\": 0.1172, \"HOUSING_rank\": 0.55, \"RACE_rank\": 0.11, \"neighborho\": \"Haight Ashbury\", \"tree_per_acre\": 6.201866489459021}, {\"GEOID\": 6075016801, \"tree_counts\": 534, \"AREA_SQMI\": 0.08746523, \"E_TOTPOP\": 4087.0, \"SOCIO\": 1.476, \"RACE\": 0.2863, \"HOUSING\": 2.0955, \"SVI\": 4.6219, \"SVI_rank\": 0.1799, \"SOCIO_rank\": 0.4351, \"HOUSING_rank\": 0.2375, \"RACE_rank\": 0.2365, \"neighborho\": \"Hayes Valley\", \"tree_per_acre\": 9.539505012448949}, {\"GEOID\": 6075016802, \"tree_counts\": 746, \"AREA_SQMI\": 0.083115019, \"E_TOTPOP\": 3774.0, \"SOCIO\": 1.9195, \"RACE\": 0.4037, \"HOUSING\": 3.1004, \"SVI\": 7.227, \"SVI_rank\": 0.5565, \"SOCIO_rank\": 0.5941, \"HOUSING_rank\": 0.7708, \"RACE_rank\": 0.4149, \"neighborho\": \"Hayes Valley\", \"tree_per_acre\": 14.024240312090887}, {\"GEOID\": 6075017000, \"tree_counts\": 847, \"AREA_SQMI\": 0.181299213, \"E_TOTPOP\": 4323.0, \"SOCIO\": 0.5936, \"RACE\": 0.1072, \"HOUSING\": 1.6814, \"SVI\": 3.2813, \"SVI_rank\": 0.0418, \"SOCIO_rank\": 0.1004, \"HOUSING_rank\": 0.0792, \"RACE_rank\": 0.0622, \"neighborho\": \"Castro/Upper Market\", \"tree_per_acre\": 7.299742111952797}, {\"GEOID\": 6075017101, \"tree_counts\": 788, \"AREA_SQMI\": 0.120992012, \"E_TOTPOP\": 4117.0, \"SOCIO\": 0.5331, \"RACE\": 0.0773, \"HOUSING\": 2.5853, \"SVI\": 3.8677, \"SVI_rank\": 0.0837, \"SOCIO_rank\": 0.0795, \"HOUSING_rank\": 0.5042, \"RACE_rank\": 0.0332, \"neighborho\": \"Haight Ashbury\", \"tree_per_acre\": 10.176291638162027}, {\"GEOID\": 6075017102, \"tree_counts\": 723, \"AREA_SQMI\": 0.113859163, \"E_TOTPOP\": 3893.0, \"SOCIO\": 0.9069, \"RACE\": 0.1646, \"HOUSING\": 2.5348, \"SVI\": 4.485, \"SVI_rank\": 0.1464, \"SOCIO_rank\": 0.2301, \"HOUSING_rank\": 0.4583, \"RACE_rank\": 0.1224, \"neighborho\": \"Haight Ashbury\", \"tree_per_acre\": 9.921796983524285}, {\"GEOID\": 6075017603, \"tree_counts\": 379, \"AREA_SQMI\": 0.096004648, \"E_TOTPOP\": 4684.0, \"SOCIO\": 1.8612, \"RACE\": 0.5917, \"HOUSING\": 3.4684, \"SVI\": 8.1508, \"SVI_rank\": 0.7657, \"SOCIO_rank\": 0.569, \"HOUSING_rank\": 0.8917, \"RACE_rank\": 0.7303, \"neighborho\": \"South of Market\", \"tree_per_acre\": 6.168321142118036}, {\"GEOID\": 6075017801, \"tree_counts\": 379, \"AREA_SQMI\": 0.082645519, \"E_TOTPOP\": 3895.0, \"SOCIO\": 2.8772, \"RACE\": 0.6565, \"HOUSING\": 2.8134, \"SVI\": 9.3262, \"SVI_rank\": 0.8745, \"SOCIO_rank\": 0.8619, \"HOUSING_rank\": 0.6375, \"RACE_rank\": 0.8216, \"neighborho\": \"South of Market\", \"tree_per_acre\": 7.165391507796085}, {\"GEOID\": 6075017804, \"tree_counts\": 674, \"AREA_SQMI\": 0.123664223, \"E_TOTPOP\": 4382.0, \"SOCIO\": 2.1945, \"RACE\": 0.5586, \"HOUSING\": 3.5255, \"SVI\": 7.7619, \"SVI_rank\": 0.682, \"SOCIO_rank\": 0.6946, \"HOUSING_rank\": 0.9167, \"RACE_rank\": 0.6992, \"neighborho\": \"South of Market\", \"tree_per_acre\": 8.516003856669201}, {\"GEOID\": 6075018000, \"tree_counts\": 882, \"AREA_SQMI\": 0.360428534, \"E_TOTPOP\": 3504.0, \"SOCIO\": 2.0047, \"RACE\": 0.4878, \"HOUSING\": 3.7363, \"SVI\": 7.4573, \"SVI_rank\": 0.6109, \"SOCIO_rank\": 0.6318, \"HOUSING_rank\": 0.9708, \"RACE_rank\": 0.5851, \"neighborho\": \"South of Market\", \"tree_per_acre\": 3.823573524287064}, {\"GEOID\": 6075020202, \"tree_counts\": 500, \"AREA_SQMI\": 0.07634279, \"E_TOTPOP\": 4201.0, \"SOCIO\": 1.618, \"RACE\": 0.3368, \"HOUSING\": 3.1915, \"SVI\": 7.5182, \"SVI_rank\": 0.6402, \"SOCIO_rank\": 0.4812, \"HOUSING_rank\": 0.8167, \"RACE_rank\": 0.3257, \"neighborho\": \"Mission\", \"tree_per_acre\": 10.233448371483412}, {\"GEOID\": 6075020300, \"tree_counts\": 618, \"AREA_SQMI\": 0.110429033, \"E_TOTPOP\": 3651.0, \"SOCIO\": 0.8326, \"RACE\": 0.1774, \"HOUSING\": 2.671, \"SVI\": 4.5625, \"SVI_rank\": 0.1674, \"SOCIO_rank\": 0.205, \"HOUSING_rank\": 0.5667, \"RACE_rank\": 0.1411, \"neighborho\": \"Castro/Upper Market\", \"tree_per_acre\": 8.744303683253298}, {\"GEOID\": 6075020402, \"tree_counts\": 270, \"AREA_SQMI\": 0.227995162, \"E_TOTPOP\": 4498.0, \"SOCIO\": 0.711, \"RACE\": 0.2344, \"HOUSING\": 2.7191, \"SVI\": 5.1564, \"SVI_rank\": 0.2636, \"SOCIO_rank\": 0.1506, \"HOUSING_rank\": 0.5958, \"RACE_rank\": 0.2033, \"neighborho\": \"Twin Peaks\", \"tree_per_acre\": 1.850368210883352}, {\"GEOID\": 6075020801, \"tree_counts\": 368, \"AREA_SQMI\": 0.080198019, \"E_TOTPOP\": 3719.0, \"SOCIO\": 1.8927, \"RACE\": 0.5324, \"HOUSING\": 3.3276, \"SVI\": 7.5227, \"SVI_rank\": 0.6444, \"SOCIO_rank\": 0.5732, \"HOUSING_rank\": 0.8583, \"RACE_rank\": 0.6639, \"neighborho\": \"Mission\", \"tree_per_acre\": 7.169753158117285}, {\"GEOID\": 6075020900, \"tree_counts\": 503, \"AREA_SQMI\": 0.120726373, \"E_TOTPOP\": 4546.0, \"SOCIO\": 2.3146, \"RACE\": 0.4822, \"HOUSING\": 4.0854, \"SVI\": 9.518, \"SVI_rank\": 0.887, \"SOCIO_rank\": 0.749, \"HOUSING_rank\": 0.9958, \"RACE_rank\": 0.5788, \"neighborho\": \"Mission\", \"tree_per_acre\": 6.510072989602694}, {\"GEOID\": 6075021000, \"tree_counts\": 782, \"AREA_SQMI\": 0.120388148, \"E_TOTPOP\": 4303.0, \"SOCIO\": 0.9849, \"RACE\": 0.2157, \"HOUSING\": 3.7271, \"SVI\": 6.0573, \"SVI_rank\": 0.41, \"SOCIO_rank\": 0.272, \"HOUSING_rank\": 0.9667, \"RACE_rank\": 0.1826, \"neighborho\": \"Mission\", \"tree_per_acre\": 10.149462553406837}, {\"GEOID\": 6075021100, \"tree_counts\": 1003, \"AREA_SQMI\": 0.163795279, \"E_TOTPOP\": 3941.0, \"SOCIO\": 0.5613, \"RACE\": 0.1595, \"HOUSING\": 2.2, \"SVI\": 3.9113, \"SVI_rank\": 0.0879, \"SOCIO_rank\": 0.0879, \"HOUSING_rank\": 0.2833, \"RACE_rank\": 0.1037, \"neighborho\": \"Noe Valley\", \"tree_per_acre\": 9.567965020530291}, {\"GEOID\": 6075021400, \"tree_counts\": 783, \"AREA_SQMI\": 0.136886673, \"E_TOTPOP\": 3633.0, \"SOCIO\": 1.0036, \"RACE\": 0.1646, \"HOUSING\": 1.5897, \"SVI\": 4.3926, \"SVI_rank\": 0.1423, \"SOCIO_rank\": 0.2887, \"HOUSING_rank\": 0.0542, \"RACE_rank\": 0.1224, \"neighborho\": \"Noe Valley\", \"tree_per_acre\": 8.937593946782533}, {\"GEOID\": 6075021500, \"tree_counts\": 973, \"AREA_SQMI\": 0.183151345, \"E_TOTPOP\": 5325.0, \"SOCIO\": 0.9407, \"RACE\": 0.246, \"HOUSING\": 2.3822, \"SVI\": 4.1918, \"SVI_rank\": 0.1088, \"SOCIO_rank\": 0.2552, \"HOUSING_rank\": 0.3708, \"RACE_rank\": 0.2116, \"neighborho\": \"Noe Valley\", \"tree_per_acre\": 8.30085359187507}, {\"GEOID\": 6075021600, \"tree_counts\": 1158, \"AREA_SQMI\": 0.230857336, \"E_TOTPOP\": 3977.0, \"SOCIO\": 0.3109, \"RACE\": 0.298, \"HOUSING\": 1.8037, \"SVI\": 4.237, \"SVI_rank\": 0.1213, \"SOCIO_rank\": 0.0335, \"HOUSING_rank\": 0.1125, \"RACE_rank\": 0.249, \"neighborho\": \"Noe Valley\", \"tree_per_acre\": 7.83763267544593}, {\"GEOID\": 6075021700, \"tree_counts\": 1141, \"AREA_SQMI\": 0.477437517, \"E_TOTPOP\": 4509.0, \"SOCIO\": 0.8015, \"RACE\": 0.303, \"HOUSING\": 1.5819, \"SVI\": 5.1911, \"SVI_rank\": 0.2762, \"SOCIO_rank\": 0.1883, \"HOUSING_rank\": 0.05, \"RACE_rank\": 0.2656, \"neighborho\": \"Glen Park\", \"tree_per_acre\": 3.73412737063979}, {\"GEOID\": 6075021800, \"tree_counts\": 1327, \"AREA_SQMI\": 0.194898884, \"E_TOTPOP\": 4145.0, \"SOCIO\": 0.7649, \"RACE\": 0.2351, \"HOUSING\": 2.2289, \"SVI\": 4.2056, \"SVI_rank\": 0.1172, \"SOCIO_rank\": 0.1715, \"HOUSING_rank\": 0.3042, \"RACE_rank\": 0.2075, \"neighborho\": \"Glen Park\", \"tree_per_acre\": 10.63852936171764}, {\"GEOID\": 6075022801, \"tree_counts\": 1288, \"AREA_SQMI\": 0.223188964, \"E_TOTPOP\": 5672.0, \"SOCIO\": 1.9441, \"RACE\": 0.4822, \"HOUSING\": 3.3903, \"SVI\": 8.0067, \"SVI_rank\": 0.7406, \"SOCIO_rank\": 0.6025, \"HOUSING_rank\": 0.875, \"RACE_rank\": 0.5788, \"neighborho\": \"Mission\", \"tree_per_acre\": 9.017022902619862}, {\"GEOID\": 6075022803, \"tree_counts\": 658, \"AREA_SQMI\": 0.108911652, \"E_TOTPOP\": 5265.0, \"SOCIO\": 2.6631, \"RACE\": 0.5736, \"HOUSING\": 3.26, \"SVI\": 8.6334, \"SVI_rank\": 0.8033, \"SOCIO_rank\": 0.8285, \"HOUSING_rank\": 0.8375, \"RACE_rank\": 0.722, \"neighborho\": \"Mission\", \"tree_per_acre\": 9.439990865256547}, {\"GEOID\": 6075022901, \"tree_counts\": 573, \"AREA_SQMI\": 0.096102718, \"E_TOTPOP\": 4608.0, \"SOCIO\": 3.0259, \"RACE\": 0.5586, \"HOUSING\": 2.9632, \"SVI\": 9.0452, \"SVI_rank\": 0.8452, \"SOCIO_rank\": 0.8912, \"HOUSING_rank\": 0.6917, \"RACE_rank\": 0.6992, \"neighborho\": \"Mission\", \"tree_per_acre\": 9.316203731095303}, {\"GEOID\": 6075023001, \"tree_counts\": 422, \"AREA_SQMI\": 0.257238141, \"E_TOTPOP\": 5125.0, \"SOCIO\": 3.6368, \"RACE\": 0.8131, \"HOUSING\": 2.5488, \"SVI\": 9.5722, \"SVI_rank\": 0.8954, \"SOCIO_rank\": 0.9665, \"HOUSING_rank\": 0.4708, \"RACE_rank\": 0.9066, \"neighborho\": \"Bayview Hunters Point\", \"tree_per_acre\": 2.5632862896486257}, {\"GEOID\": 6075023003, \"tree_counts\": 393, \"AREA_SQMI\": 0.157972475, \"E_TOTPOP\": 3968.0, \"SOCIO\": 2.5265, \"RACE\": 0.8204, \"HOUSING\": 1.7476, \"SVI\": 7.4751, \"SVI_rank\": 0.6192, \"SOCIO_rank\": 0.8033, \"HOUSING_rank\": 0.1, \"RACE_rank\": 0.9129, \"neighborho\": \"Bayview Hunters Point\", \"tree_per_acre\": 3.887148694733054}, {\"GEOID\": 6075023102, \"tree_counts\": 1240, \"AREA_SQMI\": 0.188131288, \"E_TOTPOP\": 3671.0, \"SOCIO\": 3.3298, \"RACE\": 0.91, \"HOUSING\": 2.2452, \"SVI\": 10.1247, \"SVI_rank\": 0.9372, \"SOCIO_rank\": 0.9372, \"HOUSING_rank\": 0.3083, \"RACE_rank\": 0.9647, \"neighborho\": \"Bayview Hunters Point\", \"tree_per_acre\": 10.298659093855775}, {\"GEOID\": 6075023103, \"tree_counts\": 784, \"AREA_SQMI\": 0.565225143, \"E_TOTPOP\": 3954.0, \"SOCIO\": 4.0782, \"RACE\": 0.9691, \"HOUSING\": 2.2977, \"SVI\": 10.256, \"SVI_rank\": 0.954, \"SOCIO_rank\": 1.0, \"HOUSING_rank\": 0.3292, \"RACE_rank\": 0.9959, \"neighborho\": \"Bayview Hunters Point\", \"tree_per_acre\": 2.167277969090628}, {\"GEOID\": 6075023200, \"tree_counts\": 745, \"AREA_SQMI\": 0.330722232, \"E_TOTPOP\": 4326.0, \"SOCIO\": 2.2345, \"RACE\": 0.8368, \"HOUSING\": 2.3278, \"SVI\": 8.4217, \"SVI_rank\": 0.7824, \"SOCIO_rank\": 0.7238, \"HOUSING_rank\": 0.3625, \"RACE_rank\": 0.9336, \"neighborho\": \"Bayview Hunters Point\", \"tree_per_acre\": 3.5197588410083056}, {\"GEOID\": 6075023300, \"tree_counts\": 727, \"AREA_SQMI\": 0.244501408, \"E_TOTPOP\": 3797.0, \"SOCIO\": 3.1346, \"RACE\": 0.8833, \"HOUSING\": 2.6867, \"SVI\": 10.391, \"SVI_rank\": 0.9665, \"SOCIO_rank\": 0.9121, \"HOUSING_rank\": 0.575, \"RACE_rank\": 0.9502, \"neighborho\": \"Bayview Hunters Point\", \"tree_per_acre\": 4.645934390692752}, {\"GEOID\": 6075023400, \"tree_counts\": 399, \"AREA_SQMI\": 0.331327254, \"E_TOTPOP\": 3873.0, \"SOCIO\": 2.916, \"RACE\": 0.8336, \"HOUSING\": 2.5646, \"SVI\": 10.2123, \"SVI_rank\": 0.9498, \"SOCIO_rank\": 0.8745, \"HOUSING_rank\": 0.4917, \"RACE_rank\": 0.9274, \"neighborho\": \"Bayview Hunters Point\", \"tree_per_acre\": 1.8816366371116573}, {\"GEOID\": 6075025100, \"tree_counts\": 955, \"AREA_SQMI\": 0.21323564, \"E_TOTPOP\": 3579.0, \"SOCIO\": 1.2818, \"RACE\": 0.3641, \"HOUSING\": 2.1839, \"SVI\": 5.3136, \"SVI_rank\": 0.2929, \"SOCIO_rank\": 0.3849, \"HOUSING_rank\": 0.275, \"RACE_rank\": 0.361, \"neighborho\": \"Bernal Heights\", \"tree_per_acre\": 6.997833476617699}, {\"GEOID\": 6075025200, \"tree_counts\": 1520, \"AREA_SQMI\": 0.253687547, \"E_TOTPOP\": 5402.0, \"SOCIO\": 1.0699, \"RACE\": 0.3091, \"HOUSING\": 2.0641, \"SVI\": 4.744, \"SVI_rank\": 0.1967, \"SOCIO_rank\": 0.3054, \"HOUSING_rank\": 0.225, \"RACE_rank\": 0.278, \"neighborho\": \"Bernal Heights\", \"tree_per_acre\": 9.361910066480323}, {\"GEOID\": 6075025300, \"tree_counts\": 1022, \"AREA_SQMI\": 0.155953548, \"E_TOTPOP\": 4601.0, \"SOCIO\": 1.0504, \"RACE\": 0.4138, \"HOUSING\": 2.8508, \"SVI\": 5.2804, \"SVI_rank\": 0.2803, \"SOCIO_rank\": 0.2971, \"HOUSING_rank\": 0.65, \"RACE_rank\": 0.4378, \"neighborho\": \"Bernal Heights\", \"tree_per_acre\": 10.23942719148653}, {\"GEOID\": 6075025401, \"tree_counts\": 826, \"AREA_SQMI\": 0.140433792, \"E_TOTPOP\": 4005.0, \"SOCIO\": 1.1781, \"RACE\": 0.3566, \"HOUSING\": 3.0133, \"SVI\": 6.3113, \"SVI_rank\": 0.4519, \"SOCIO_rank\": 0.3556, \"HOUSING_rank\": 0.7208, \"RACE_rank\": 0.3568, \"neighborho\": \"Bernal Heights\", \"tree_per_acre\": 9.190273805324574}, {\"GEOID\": 6075025402, \"tree_counts\": 689, \"AREA_SQMI\": 0.116214771, \"E_TOTPOP\": 3713.0, \"SOCIO\": 2.1711, \"RACE\": 0.5985, \"HOUSING\": 2.1145, \"SVI\": 7.3058, \"SVI_rank\": 0.5732, \"SOCIO_rank\": 0.6862, \"HOUSING_rank\": 0.2458, \"RACE_rank\": 0.7427, \"neighborho\": \"Bernal Heights\", \"tree_per_acre\": 9.26355996519582}, {\"GEOID\": 6075025403, \"tree_counts\": 481, \"AREA_SQMI\": 0.199124771, \"E_TOTPOP\": 4849.0, \"SOCIO\": 2.1296, \"RACE\": 0.6531, \"HOUSING\": 2.3274, \"SVI\": 7.5064, \"SVI_rank\": 0.6318, \"SOCIO_rank\": 0.6736, \"HOUSING_rank\": 0.3583, \"RACE_rank\": 0.8091, \"neighborho\": \"Bernal Heights\", \"tree_per_acre\": 3.7743295132276633}, {\"GEOID\": 6075025501, \"tree_counts\": 581, \"AREA_SQMI\": 0.207204727, \"E_TOTPOP\": 4348.0, \"SOCIO\": 1.5009, \"RACE\": 0.655, \"HOUSING\": 2.608, \"SVI\": 7.3703, \"SVI_rank\": 0.59, \"SOCIO_rank\": 0.4477, \"HOUSING_rank\": 0.5208, \"RACE_rank\": 0.8174, \"neighborho\": \"Outer Mission\", \"tree_per_acre\": 4.381234507261024}, {\"GEOID\": 6075025502, \"tree_counts\": 714, \"AREA_SQMI\": 0.208606277, \"E_TOTPOP\": 4895.0, \"SOCIO\": 1.7359, \"RACE\": 0.6541, \"HOUSING\": 2.8008, \"SVI\": 8.0494, \"SVI_rank\": 0.7448, \"SOCIO_rank\": 0.5314, \"HOUSING_rank\": 0.6333, \"RACE_rank\": 0.8133, \"neighborho\": \"Outer Mission\", \"tree_per_acre\": 5.347993435499546}, {\"GEOID\": 6075025600, \"tree_counts\": 678, \"AREA_SQMI\": 0.222891665, \"E_TOTPOP\": 5114.0, \"SOCIO\": 2.4497, \"RACE\": 0.7888, \"HOUSING\": 2.3188, \"SVI\": 7.8741, \"SVI_rank\": 0.7155, \"SOCIO_rank\": 0.7782, \"HOUSING_rank\": 0.3417, \"RACE_rank\": 0.8838, \"neighborho\": \"Excelsior\", \"tree_per_acre\": 4.752869516228882}, {\"GEOID\": 6075025701, \"tree_counts\": 504, \"AREA_SQMI\": 0.236487475, \"E_TOTPOP\": 5427.0, \"SOCIO\": 2.2816, \"RACE\": 0.8436, \"HOUSING\": 2.1605, \"SVI\": 7.4674, \"SVI_rank\": 0.6151, \"SOCIO_rank\": 0.7406, \"HOUSING_rank\": 0.2667, \"RACE_rank\": 0.9378, \"neighborho\": \"Portola\", \"tree_per_acre\": 3.3299860806581827}, {\"GEOID\": 6075025702, \"tree_counts\": 427, \"AREA_SQMI\": 0.205969201, \"E_TOTPOP\": 3904.0, \"SOCIO\": 2.3538, \"RACE\": 0.8131, \"HOUSING\": 2.9569, \"SVI\": 9.0439, \"SVI_rank\": 0.841, \"SOCIO_rank\": 0.7573, \"HOUSING_rank\": 0.6875, \"RACE_rank\": 0.9066, \"neighborho\": \"Portola\", \"tree_per_acre\": 3.2392585724503538}, {\"GEOID\": 6075025900, \"tree_counts\": 678, \"AREA_SQMI\": 0.267337411, \"E_TOTPOP\": 4800.0, \"SOCIO\": 1.602, \"RACE\": 0.643, \"HOUSING\": 2.7085, \"SVI\": 7.5081, \"SVI_rank\": 0.636, \"SOCIO_rank\": 0.477, \"HOUSING_rank\": 0.5833, \"RACE_rank\": 0.7967, \"neighborho\": \"Portola\", \"tree_per_acre\": 3.9626889331998494}, {\"GEOID\": 6075026001, \"tree_counts\": 484, \"AREA_SQMI\": 0.157257028, \"E_TOTPOP\": 6708.0, \"SOCIO\": 2.6162, \"RACE\": 0.8112, \"HOUSING\": 2.162, \"SVI\": 7.9749, \"SVI_rank\": 0.7197, \"SOCIO_rank\": 0.8201, \"HOUSING_rank\": 0.2708, \"RACE_rank\": 0.9004, \"neighborho\": \"Excelsior\", \"tree_per_acre\": 4.809006055996429}, {\"GEOID\": 6075026002, \"tree_counts\": 591, \"AREA_SQMI\": 0.138176253, \"E_TOTPOP\": 3662.0, \"SOCIO\": 1.2598, \"RACE\": 0.6341, \"HOUSING\": 3.1087, \"SVI\": 8.2113, \"SVI_rank\": 0.7741, \"SOCIO_rank\": 0.3724, \"HOUSING_rank\": 0.7792, \"RACE_rank\": 0.7884, \"neighborho\": \"Excelsior\", \"tree_per_acre\": 6.683040536639823}, {\"GEOID\": 6075026003, \"tree_counts\": 482, \"AREA_SQMI\": 0.157311082, \"E_TOTPOP\": 5336.0, \"SOCIO\": 1.728, \"RACE\": 0.7472, \"HOUSING\": 2.1359, \"SVI\": 7.173, \"SVI_rank\": 0.5523, \"SOCIO_rank\": 0.5146, \"HOUSING_rank\": 0.25, \"RACE_rank\": 0.8548, \"neighborho\": \"Excelsior\", \"tree_per_acre\": 4.787488525442855}, {\"GEOID\": 6075026004, \"tree_counts\": 460, \"AREA_SQMI\": 0.129818689, \"E_TOTPOP\": 4214.0, \"SOCIO\": 2.15, \"RACE\": 0.7358, \"HOUSING\": 1.9023, \"SVI\": 7.7087, \"SVI_rank\": 0.6695, \"SOCIO_rank\": 0.6778, \"HOUSING_rank\": 0.15, \"RACE_rank\": 0.8506, \"neighborho\": \"Excelsior\", \"tree_per_acre\": 5.536568005243067}, {\"GEOID\": 6075026100, \"tree_counts\": 805, \"AREA_SQMI\": 0.290042911, \"E_TOTPOP\": 7518.0, \"SOCIO\": 2.4687, \"RACE\": 0.878, \"HOUSING\": 2.0095, \"SVI\": 7.4902, \"SVI_rank\": 0.6234, \"SOCIO_rank\": 0.7824, \"HOUSING_rank\": 0.2042, \"RACE_rank\": 0.9419, \"neighborho\": \"Outer Mission\", \"tree_per_acre\": 4.336642794210543}, {\"GEOID\": 6075026201, \"tree_counts\": 279, \"AREA_SQMI\": 0.1687953, \"E_TOTPOP\": 3849.0, \"SOCIO\": 1.7332, \"RACE\": 0.9229, \"HOUSING\": 2.7149, \"SVI\": 7.9805, \"SVI_rank\": 0.728, \"SOCIO_rank\": 0.5272, \"HOUSING_rank\": 0.5917, \"RACE_rank\": 0.9751, \"neighborho\": \"Outer Mission\", \"tree_per_acre\": 2.5826400379631425}, {\"GEOID\": 6075026202, \"tree_counts\": 372, \"AREA_SQMI\": 0.130239541, \"E_TOTPOP\": 4036.0, \"SOCIO\": 2.2668, \"RACE\": 0.8796, \"HOUSING\": 2.5985, \"SVI\": 8.7414, \"SVI_rank\": 0.8243, \"SOCIO_rank\": 0.7322, \"HOUSING_rank\": 0.5083, \"RACE_rank\": 0.9461, \"neighborho\": \"Outer Mission\", \"tree_per_acre\": 4.462930347704466}, {\"GEOID\": 6075026301, \"tree_counts\": 358, \"AREA_SQMI\": 0.141986694, \"E_TOTPOP\": 5561.0, \"SOCIO\": 3.0154, \"RACE\": 0.7906, \"HOUSING\": 2.7994, \"SVI\": 9.87, \"SVI_rank\": 0.9079, \"SOCIO_rank\": 0.887, \"HOUSING_rank\": 0.6292, \"RACE_rank\": 0.888, \"neighborho\": \"Excelsior\", \"tree_per_acre\": 3.939629723331681}, {\"GEOID\": 6075026302, \"tree_counts\": 464, \"AREA_SQMI\": 0.28988654, \"E_TOTPOP\": 5332.0, \"SOCIO\": 2.6057, \"RACE\": 0.8232, \"HOUSING\": 2.9508, \"SVI\": 9.0334, \"SVI_rank\": 0.8368, \"SOCIO_rank\": 0.8159, \"HOUSING_rank\": 0.6792, \"RACE_rank\": 0.917, \"neighborho\": \"Excelsior\", \"tree_per_acre\": 2.5009784862725946}, {\"GEOID\": 6075026303, \"tree_counts\": 246, \"AREA_SQMI\": 0.165001462, \"E_TOTPOP\": 5053.0, \"SOCIO\": 2.0264, \"RACE\": 0.7959, \"HOUSING\": 2.5476, \"SVI\": 8.0982, \"SVI_rank\": 0.7531, \"SOCIO_rank\": 0.6485, \"HOUSING_rank\": 0.4667, \"RACE_rank\": 0.8921, \"neighborho\": \"Excelsior\", \"tree_per_acre\": 2.3295248135437734}, {\"GEOID\": 6075026401, \"tree_counts\": 126, \"AREA_SQMI\": 0.131677384, \"E_TOTPOP\": 3651.0, \"SOCIO\": 2.6844, \"RACE\": 0.8904, \"HOUSING\": 2.5533, \"SVI\": 9.6892, \"SVI_rank\": 0.8996, \"SOCIO_rank\": 0.8368, \"HOUSING_rank\": 0.475, \"RACE_rank\": 0.9585, \"neighborho\": \"Visitacion Valley\", \"tree_per_acre\": 1.495131464640883}, {\"GEOID\": 6075026402, \"tree_counts\": 264, \"AREA_SQMI\": 0.153776318, \"E_TOTPOP\": 5758.0, \"SOCIO\": 1.8515, \"RACE\": 0.6934, \"HOUSING\": 1.8368, \"SVI\": 6.2172, \"SVI_rank\": 0.431, \"SOCIO_rank\": 0.5607, \"HOUSING_rank\": 0.1292, \"RACE_rank\": 0.834, \"neighborho\": \"Visitacion Valley\", \"tree_per_acre\": 2.682467660592576}, {\"GEOID\": 6075026403, \"tree_counts\": 264, \"AREA_SQMI\": 0.146526095, \"E_TOTPOP\": 4143.0, \"SOCIO\": 2.9539, \"RACE\": 0.886, \"HOUSING\": 3.3433, \"SVI\": 9.9775, \"SVI_rank\": 0.9205, \"SOCIO_rank\": 0.8787, \"HOUSING_rank\": 0.8625, \"RACE_rank\": 0.9544, \"neighborho\": \"Visitacion Valley\", \"tree_per_acre\": 2.8151982075274717}, {\"GEOID\": 6075030101, \"tree_counts\": 621, \"AREA_SQMI\": 0.13510597, \"E_TOTPOP\": 5252.0, \"SOCIO\": 1.001, \"RACE\": 0.3699, \"HOUSING\": 2.7273, \"SVI\": 4.924, \"SVI_rank\": 0.2134, \"SOCIO_rank\": 0.2845, \"HOUSING_rank\": 0.6, \"RACE_rank\": 0.3693, \"neighborho\": \"Inner Sunset\", \"tree_per_acre\": 7.181862503929323}, {\"GEOID\": 6075030102, \"tree_counts\": 630, \"AREA_SQMI\": 0.486570374, \"E_TOTPOP\": 4829.0, \"SOCIO\": 0.921, \"RACE\": 0.2294, \"HOUSING\": 2.836, \"SVI\": 5.1337, \"SVI_rank\": 0.2552, \"SOCIO_rank\": 0.2427, \"HOUSING_rank\": 0.6417, \"RACE_rank\": 0.195, \"neighborho\": \"Inner Sunset\", \"tree_per_acre\": 2.023088647809864}, {\"GEOID\": 6075030201, \"tree_counts\": 397, \"AREA_SQMI\": 0.139366606, \"E_TOTPOP\": 4552.0, \"SOCIO\": 1.7752, \"RACE\": 0.4326, \"HOUSING\": 3.1453, \"SVI\": 7.8442, \"SVI_rank\": 0.7113, \"SOCIO_rank\": 0.5439, \"HOUSING_rank\": 0.7833, \"RACE_rank\": 0.4647, \"neighborho\": \"Inner Sunset\", \"tree_per_acre\": 4.450940708134917}, {\"GEOID\": 6075030202, \"tree_counts\": 478, \"AREA_SQMI\": 0.137690923, \"E_TOTPOP\": 4190.0, \"SOCIO\": 0.9501, \"RACE\": 0.3463, \"HOUSING\": 3.5847, \"SVI\": 6.3917, \"SVI_rank\": 0.4686, \"SOCIO_rank\": 0.2594, \"HOUSING_rank\": 0.925, \"RACE_rank\": 0.3361, \"neighborho\": \"Inner Sunset\", \"tree_per_acre\": 5.424286392502432}, {\"GEOID\": 6075030301, \"tree_counts\": 881, \"AREA_SQMI\": 0.291039827, \"E_TOTPOP\": 5649.0, \"SOCIO\": 0.8748, \"RACE\": 0.4361, \"HOUSING\": 1.955, \"SVI\": 4.7988, \"SVI_rank\": 0.205, \"SOCIO_rank\": 0.2218, \"HOUSING_rank\": 0.1792, \"RACE_rank\": 0.473, \"neighborho\": \"Inner Sunset\", \"tree_per_acre\": 4.729807992910881}, {\"GEOID\": 6075030302, \"tree_counts\": 553, \"AREA_SQMI\": 0.230748841, \"E_TOTPOP\": 4079.0, \"SOCIO\": 1.3177, \"RACE\": 0.4721, \"HOUSING\": 0.9742, \"SVI\": 4.5717, \"SVI_rank\": 0.1715, \"SOCIO_rank\": 0.3933, \"HOUSING_rank\": 0.0125, \"RACE_rank\": 0.5602, \"neighborho\": \"Inner Sunset\", \"tree_per_acre\": 3.744601690112064}, {\"GEOID\": 6075030400, \"tree_counts\": 1670, \"AREA_SQMI\": 0.37543323, \"E_TOTPOP\": 5403.0, \"SOCIO\": 0.9307, \"RACE\": 0.4583, \"HOUSING\": 1.0925, \"SVI\": 4.547, \"SVI_rank\": 0.159, \"SOCIO_rank\": 0.251, \"HOUSING_rank\": 0.025, \"RACE_rank\": 0.5228, \"neighborho\": \"West of Twin Peaks\", \"tree_per_acre\": 6.9503037863750095}, {\"GEOID\": 6075030500, \"tree_counts\": 140, \"AREA_SQMI\": 0.419995578, \"E_TOTPOP\": 3570.0, \"SOCIO\": 1.7088, \"RACE\": 0.4699, \"HOUSING\": 3.0938, \"SVI\": 7.8066, \"SVI_rank\": 0.6946, \"SOCIO_rank\": 0.5063, \"HOUSING_rank\": 0.7667, \"RACE_rank\": 0.5477, \"neighborho\": \"Twin Peaks\", \"tree_per_acre\": 0.5208388170220212}, {\"GEOID\": 6075030700, \"tree_counts\": 1245, \"AREA_SQMI\": 0.550962149, \"E_TOTPOP\": 6895.0, \"SOCIO\": 0.677, \"RACE\": 0.345, \"HOUSING\": 1.0225, \"SVI\": 4.2743, \"SVI_rank\": 0.1255, \"SOCIO_rank\": 0.1213, \"HOUSING_rank\": 0.0208, \"RACE_rank\": 0.332, \"neighborho\": \"West of Twin Peaks\", \"tree_per_acre\": 3.530755249758545}, {\"GEOID\": 6075030800, \"tree_counts\": 1945, \"AREA_SQMI\": 0.479890809, \"E_TOTPOP\": 6297.0, \"SOCIO\": 0.4869, \"RACE\": 0.225, \"HOUSING\": 2.2684, \"SVI\": 4.9867, \"SVI_rank\": 0.2301, \"SOCIO_rank\": 0.0753, \"HOUSING_rank\": 0.3208, \"RACE_rank\": 0.1909, \"neighborho\": \"West of Twin Peaks\", \"tree_per_acre\": 6.332820806326383}, {\"GEOID\": 6075030900, \"tree_counts\": 2207, \"AREA_SQMI\": 0.726398017, \"E_TOTPOP\": 6803.0, \"SOCIO\": 0.6889, \"RACE\": 0.4598, \"HOUSING\": 1.7449, \"SVI\": 5.2927, \"SVI_rank\": 0.2887, \"SOCIO_rank\": 0.1297, \"HOUSING_rank\": 0.0958, \"RACE_rank\": 0.527, \"neighborho\": \"West of Twin Peaks\", \"tree_per_acre\": 4.747311280173828}, {\"GEOID\": 6075031000, \"tree_counts\": 773, \"AREA_SQMI\": 0.316153445, \"E_TOTPOP\": 4020.0, \"SOCIO\": 0.8508, \"RACE\": 0.4533, \"HOUSING\": 2.0319, \"SVI\": 5.6052, \"SVI_rank\": 0.3389, \"SOCIO_rank\": 0.2134, \"HOUSING_rank\": 0.2167, \"RACE_rank\": 0.5124, \"neighborho\": \"West of Twin Peaks\", \"tree_per_acre\": 3.820336355974234}, {\"GEOID\": 6075031100, \"tree_counts\": 1868, \"AREA_SQMI\": 0.4138859, \"E_TOTPOP\": 6530.0, \"SOCIO\": 0.8169, \"RACE\": 0.4478, \"HOUSING\": 1.8163, \"SVI\": 4.7975, \"SVI_rank\": 0.2008, \"SOCIO_rank\": 0.1967, \"HOUSING_rank\": 0.1167, \"RACE_rank\": 0.5021, \"neighborho\": \"West of Twin Peaks\", \"tree_per_acre\": 7.052064349135836}, {\"GEOID\": 6075031201, \"tree_counts\": 644, \"AREA_SQMI\": 0.198013955, \"E_TOTPOP\": 7025.0, \"SOCIO\": 2.1133, \"RACE\": 0.7674, \"HOUSING\": 3.0026, \"SVI\": 8.4359, \"SVI_rank\": 0.7908, \"SOCIO_rank\": 0.6653, \"HOUSING_rank\": 0.7083, \"RACE_rank\": 0.8693, \"neighborho\": \"Oceanview/Merced/Ingleside\", \"tree_per_acre\": 5.081712548996863}, {\"GEOID\": 6075031301, \"tree_counts\": 496, \"AREA_SQMI\": 0.174360574, \"E_TOTPOP\": 4069.0, \"SOCIO\": 1.9959, \"RACE\": 0.6282, \"HOUSING\": 1.6645, \"SVI\": 6.8507, \"SVI_rank\": 0.5188, \"SOCIO_rank\": 0.6234, \"HOUSING_rank\": 0.0708, \"RACE_rank\": 0.7759, \"neighborho\": \"Oceanview/Merced/Ingleside\", \"tree_per_acre\": 4.444812162639474}, {\"GEOID\": 6075031302, \"tree_counts\": 596, \"AREA_SQMI\": 0.264792613, \"E_TOTPOP\": 5635.0, \"SOCIO\": 2.0958, \"RACE\": 0.7594, \"HOUSING\": 2.2215, \"SVI\": 7.4167, \"SVI_rank\": 0.5983, \"SOCIO_rank\": 0.6611, \"HOUSING_rank\": 0.2958, \"RACE_rank\": 0.8589, \"neighborho\": \"Oceanview/Merced/Ingleside\", \"tree_per_acre\": 3.516903245333358}, {\"GEOID\": 6075031402, \"tree_counts\": 361, \"AREA_SQMI\": 0.170414612, \"E_TOTPOP\": 4755.0, \"SOCIO\": 1.536, \"RACE\": 0.7169, \"HOUSING\": 2.256, \"SVI\": 6.6935, \"SVI_rank\": 0.5021, \"SOCIO_rank\": 0.4561, \"HOUSING_rank\": 0.3167, \"RACE_rank\": 0.8465, \"neighborho\": \"Oceanview/Merced/Ingleside\", \"tree_per_acre\": 3.309942107546506}, {\"GEOID\": 6075032601, \"tree_counts\": 327, \"AREA_SQMI\": 0.161267856, \"E_TOTPOP\": 5196.0, \"SOCIO\": 1.9409, \"RACE\": 0.5643, \"HOUSING\": 2.7283, \"SVI\": 7.6227, \"SVI_rank\": 0.6569, \"SOCIO_rank\": 0.5983, \"HOUSING_rank\": 0.6042, \"RACE_rank\": 0.7178, \"neighborho\": \"Sunset/Parkside\", \"tree_per_acre\": 3.1682538149449946}, {\"GEOID\": 6075032602, \"tree_counts\": 409, \"AREA_SQMI\": 0.182284932, \"E_TOTPOP\": 4637.0, \"SOCIO\": 2.0176, \"RACE\": 0.5607, \"HOUSING\": 2.2264, \"SVI\": 7.4246, \"SVI_rank\": 0.6025, \"SOCIO_rank\": 0.6444, \"HOUSING_rank\": 0.3, \"RACE_rank\": 0.7116, \"neighborho\": \"Sunset/Parkside\", \"tree_per_acre\": 3.505843807210571}, {\"GEOID\": 6075032700, \"tree_counts\": 1222, \"AREA_SQMI\": 0.326143062, \"E_TOTPOP\": 7242.0, \"SOCIO\": 1.2823, \"RACE\": 0.4887, \"HOUSING\": 1.7317, \"SVI\": 5.4995, \"SVI_rank\": 0.3264, \"SOCIO_rank\": 0.3891, \"HOUSING_rank\": 0.0917, \"RACE_rank\": 0.5892, \"neighborho\": \"Sunset/Parkside\", \"tree_per_acre\": 5.85440937572359}, {\"GEOID\": 6075032801, \"tree_counts\": 422, \"AREA_SQMI\": 0.226010597, \"E_TOTPOP\": 4055.0, \"SOCIO\": 1.9581, \"RACE\": 0.6449, \"HOUSING\": 2.1852, \"SVI\": 7.4555, \"SVI_rank\": 0.6067, \"SOCIO_rank\": 0.6109, \"HOUSING_rank\": 0.2792, \"RACE_rank\": 0.8029, \"neighborho\": \"Sunset/Parkside\", \"tree_per_acre\": 2.917451698072369}, {\"GEOID\": 6075032802, \"tree_counts\": 357, \"AREA_SQMI\": 0.211931388, \"E_TOTPOP\": 4572.0, \"SOCIO\": 1.5139, \"RACE\": 0.6249, \"HOUSING\": 1.7055, \"SVI\": 6.3533, \"SVI_rank\": 0.4603, \"SOCIO_rank\": 0.4519, \"HOUSING_rank\": 0.0833, \"RACE_rank\": 0.7697, \"neighborho\": \"Sunset/Parkside\", \"tree_per_acre\": 2.632042876065153}, {\"GEOID\": 6075032901, \"tree_counts\": 751, \"AREA_SQMI\": 0.259421934, \"E_TOTPOP\": 5335.0, \"SOCIO\": 1.2629, \"RACE\": 0.671, \"HOUSING\": 1.8324, \"SVI\": 6.1967, \"SVI_rank\": 0.4268, \"SOCIO_rank\": 0.3766, \"HOUSING_rank\": 0.125, \"RACE_rank\": 0.8257, \"neighborho\": \"Sunset/Parkside\", \"tree_per_acre\": 4.523277896771828}, {\"GEOID\": 6075032902, \"tree_counts\": 509, \"AREA_SQMI\": 0.194827069, \"E_TOTPOP\": 4450.0, \"SOCIO\": 1.7243, \"RACE\": 0.6449, \"HOUSING\": 2.1024, \"SVI\": 7.014, \"SVI_rank\": 0.5272, \"SOCIO_rank\": 0.5105, \"HOUSING_rank\": 0.2417, \"RACE_rank\": 0.8029, \"neighborho\": \"Sunset/Parkside\", \"tree_per_acre\": 4.08214579258491}, {\"GEOID\": 6075033001, \"tree_counts\": 810, \"AREA_SQMI\": 0.222372358, \"E_TOTPOP\": 4210.0, \"SOCIO\": 1.6643, \"RACE\": 0.6015, \"HOUSING\": 1.6526, \"SVI\": 5.8664, \"SVI_rank\": 0.3891, \"SOCIO_rank\": 0.4937, \"HOUSING_rank\": 0.0625, \"RACE_rank\": 0.7552, \"neighborho\": \"Sunset/Parkside\", \"tree_per_acre\": 5.691467282098075}, {\"GEOID\": 6075033002, \"tree_counts\": 690, \"AREA_SQMI\": 0.35964436, \"E_TOTPOP\": 3986.0, \"SOCIO\": 1.0792, \"RACE\": 0.5431, \"HOUSING\": 1.6762, \"SVI\": 4.9847, \"SVI_rank\": 0.2259, \"SOCIO_rank\": 0.3138, \"HOUSING_rank\": 0.075, \"RACE_rank\": 0.6763, \"neighborho\": \"Sunset/Parkside\", \"tree_per_acre\": 2.9977531136592828}, {\"GEOID\": 6075033100, \"tree_counts\": 305, \"AREA_SQMI\": 0.344431942, \"E_TOTPOP\": 3868.0, \"SOCIO\": 1.4106, \"RACE\": 0.5573, \"HOUSING\": 1.7499, \"SVI\": 6.09, \"SVI_rank\": 0.4184, \"SOCIO_rank\": 0.41, \"HOUSING_rank\": 0.1042, \"RACE_rank\": 0.6929, \"neighborho\": \"Sunset/Parkside\", \"tree_per_acre\": 1.3836187701778253}, {\"GEOID\": 6075033201, \"tree_counts\": 30, \"AREA_SQMI\": 0.360591469, \"E_TOTPOP\": 4444.0, \"SOCIO\": 3.2158, \"RACE\": 0.5985, \"HOUSING\": 3.0797, \"SVI\": 7.7694, \"SVI_rank\": 0.6862, \"SOCIO_rank\": 0.9205, \"HOUSING_rank\": 0.7542, \"RACE_rank\": 0.7427, \"neighborho\": \"Lakeshore\", \"tree_per_acre\": 0.1299947559214164}, {\"GEOID\": 6075033204, \"tree_counts\": 92, \"AREA_SQMI\": 0.149770124, \"E_TOTPOP\": 4821.0, \"SOCIO\": 3.6285, \"RACE\": 0.5778, \"HOUSING\": 2.5605, \"SVI\": 9.0876, \"SVI_rank\": 0.8577, \"SOCIO_rank\": 0.9623, \"HOUSING_rank\": 0.4875, \"RACE_rank\": 0.7261, \"neighborho\": \"Lakeshore\", \"tree_per_acre\": 0.9598042397294136}, {\"GEOID\": 6075035101, \"tree_counts\": 429, \"AREA_SQMI\": 0.147644633, \"E_TOTPOP\": 4160.0, \"SOCIO\": 1.9881, \"RACE\": 0.3926, \"HOUSING\": 1.8883, \"SVI\": 6.2524, \"SVI_rank\": 0.4393, \"SOCIO_rank\": 0.6192, \"HOUSING_rank\": 0.1375, \"RACE_rank\": 0.4025, \"neighborho\": \"Sunset/Parkside\", \"tree_per_acre\": 4.5400397317523895}, {\"GEOID\": 6075035102, \"tree_counts\": 687, \"AREA_SQMI\": 0.209767286, \"E_TOTPOP\": 4575.0, \"SOCIO\": 1.0802, \"RACE\": 0.5554, \"HOUSING\": 1.6454, \"SVI\": 6.3339, \"SVI_rank\": 0.4561, \"SOCIO_rank\": 0.318, \"HOUSING_rank\": 0.0583, \"RACE_rank\": 0.6846, \"neighborho\": \"Sunset/Parkside\", \"tree_per_acre\": 5.117277915298957}, {\"GEOID\": 6075035201, \"tree_counts\": 294, \"AREA_SQMI\": 0.362841285, \"E_TOTPOP\": 5467.0, \"SOCIO\": 2.5706, \"RACE\": 0.5599, \"HOUSING\": 1.8222, \"SVI\": 7.6435, \"SVI_rank\": 0.6611, \"SOCIO_rank\": 0.8117, \"HOUSING_rank\": 0.1208, \"RACE_rank\": 0.7054, \"neighborho\": \"Sunset/Parkside\", \"tree_per_acre\": 1.266049424337145}, {\"GEOID\": 6075035202, \"tree_counts\": 341, \"AREA_SQMI\": 0.143922609, \"E_TOTPOP\": 5015.0, \"SOCIO\": 1.9981, \"RACE\": 0.5087, \"HOUSING\": 2.8505, \"SVI\": 7.7411, \"SVI_rank\": 0.6778, \"SOCIO_rank\": 0.6276, \"HOUSING_rank\": 0.6458, \"RACE_rank\": 0.6162, \"neighborho\": \"Sunset/Parkside\", \"tree_per_acre\": 3.702076440262419}, {\"GEOID\": 6075035300, \"tree_counts\": 1306, \"AREA_SQMI\": 0.43332073, \"E_TOTPOP\": 7539.0, \"SOCIO\": 1.2218, \"RACE\": 0.5237, \"HOUSING\": 1.982, \"SVI\": 5.827, \"SVI_rank\": 0.3766, \"SOCIO_rank\": 0.364, \"HOUSING_rank\": 0.1833, \"RACE_rank\": 0.639, \"neighborho\": \"Sunset/Parkside\", \"tree_per_acre\": 4.709271582737341}, {\"GEOID\": 6075035400, \"tree_counts\": 411, \"AREA_SQMI\": 0.397994328, \"E_TOTPOP\": 7332.0, \"SOCIO\": 2.4703, \"RACE\": 0.5181, \"HOUSING\": 2.5277, \"SVI\": 7.9974, \"SVI_rank\": 0.7364, \"SOCIO_rank\": 0.7866, \"HOUSING_rank\": 0.4458, \"RACE_rank\": 0.6266, \"neighborho\": \"Sunset/Parkside\", \"tree_per_acre\": 1.6135594274097294}, {\"GEOID\": 6075040100, \"tree_counts\": 569, \"AREA_SQMI\": 0.161826159, \"E_TOTPOP\": 4478.0, \"SOCIO\": 1.3668, \"RACE\": 0.4383, \"HOUSING\": 2.7741, \"SVI\": 6.449, \"SVI_rank\": 0.4728, \"SOCIO_rank\": 0.3975, \"HOUSING_rank\": 0.6208, \"RACE_rank\": 0.4876, \"neighborho\": \"Inner Richmond\", \"tree_per_acre\": 5.493935625080245}, {\"GEOID\": 6075040200, \"tree_counts\": 770, \"AREA_SQMI\": 0.20520163, \"E_TOTPOP\": 6144.0, \"SOCIO\": 0.8729, \"RACE\": 0.4196, \"HOUSING\": 2.5176, \"SVI\": 6.7411, \"SVI_rank\": 0.5063, \"SOCIO_rank\": 0.2176, \"HOUSING_rank\": 0.4417, \"RACE_rank\": 0.444, \"neighborho\": \"Inner Richmond\", \"tree_per_acre\": 5.863135687567394}, {\"GEOID\": 6075042601, \"tree_counts\": 428, \"AREA_SQMI\": 0.113179238, \"E_TOTPOP\": 4159.0, \"SOCIO\": 2.4719, \"RACE\": 0.4326, \"HOUSING\": 2.4706, \"SVI\": 7.8192, \"SVI_rank\": 0.6987, \"SOCIO_rank\": 0.7908, \"HOUSING_rank\": 0.425, \"RACE_rank\": 0.4647, \"neighborho\": \"Outer Richmond\", \"tree_per_acre\": 5.908769239107264}, {\"GEOID\": 6075042700, \"tree_counts\": 514, \"AREA_SQMI\": 0.158068614, \"E_TOTPOP\": 5276.0, \"SOCIO\": 2.4361, \"RACE\": 0.5261, \"HOUSING\": 2.6039, \"SVI\": 8.0624, \"SVI_rank\": 0.749, \"SOCIO_rank\": 0.7741, \"HOUSING_rank\": 0.5146, \"RACE_rank\": 0.6432, \"neighborho\": \"Outer Richmond\", \"tree_per_acre\": 5.080863175026004}, {\"GEOID\": 6075045100, \"tree_counts\": 652, \"AREA_SQMI\": 0.148440389, \"E_TOTPOP\": 5289.0, \"SOCIO\": 0.8278, \"RACE\": 0.303, \"HOUSING\": 2.7087, \"SVI\": 5.608, \"SVI_rank\": 0.3431, \"SOCIO_rank\": 0.2008, \"HOUSING_rank\": 0.5875, \"RACE_rank\": 0.2656, \"neighborho\": \"Inner Richmond\", \"tree_per_acre\": 6.863024321500531}, {\"GEOID\": 6075047600, \"tree_counts\": 886, \"AREA_SQMI\": 0.205086958, \"E_TOTPOP\": 5418.0, \"SOCIO\": 1.2657, \"RACE\": 0.4707, \"HOUSING\": 1.9977, \"SVI\": 5.6934, \"SVI_rank\": 0.3598, \"SOCIO_rank\": 0.3808, \"HOUSING_rank\": 0.1958, \"RACE_rank\": 0.5539, \"neighborho\": \"Outer Richmond\", \"tree_per_acre\": 6.750185450602861}, {\"GEOID\": 6075047701, \"tree_counts\": 489, \"AREA_SQMI\": 0.14082221, \"E_TOTPOP\": 4947.0, \"SOCIO\": 2.3983, \"RACE\": 0.5287, \"HOUSING\": 1.9874, \"SVI\": 7.3302, \"SVI_rank\": 0.5774, \"SOCIO_rank\": 0.7615, \"HOUSING_rank\": 0.1875, \"RACE_rank\": 0.6556, \"neighborho\": \"Outer Richmond\", \"tree_per_acre\": 5.425724393900649}, {\"GEOID\": 6075047702, \"tree_counts\": 465, \"AREA_SQMI\": 0.13621138, \"E_TOTPOP\": 3803.0, \"SOCIO\": 1.4124, \"RACE\": 0.4219, \"HOUSING\": 2.0755, \"SVI\": 6.3644, \"SVI_rank\": 0.4644, \"SOCIO_rank\": 0.4142, \"HOUSING_rank\": 0.2333, \"RACE_rank\": 0.4481, \"neighborho\": \"Outer Richmond\", \"tree_per_acre\": 5.334080750081235}, {\"GEOID\": 6075047801, \"tree_counts\": 541, \"AREA_SQMI\": 0.18401853, \"E_TOTPOP\": 4283.0, \"SOCIO\": 1.1305, \"RACE\": 0.4138, \"HOUSING\": 2.3262, \"SVI\": 6.5211, \"SVI_rank\": 0.4854, \"SOCIO_rank\": 0.3389, \"HOUSING_rank\": 0.3542, \"RACE_rank\": 0.4378, \"neighborho\": \"Outer Richmond\", \"tree_per_acre\": 4.5936270657090885}, {\"GEOID\": 6075047802, \"tree_counts\": 460, \"AREA_SQMI\": 0.131061166, \"E_TOTPOP\": 3904.0, \"SOCIO\": 1.9758, \"RACE\": 0.4454, \"HOUSING\": 2.6444, \"SVI\": 7.8334, \"SVI_rank\": 0.7071, \"SOCIO_rank\": 0.6151, \"HOUSING_rank\": 0.5583, \"RACE_rank\": 0.4979, \"neighborho\": \"Outer Richmond\", \"tree_per_acre\": 5.484080616221589}, {\"GEOID\": 6075047902, \"tree_counts\": 555, \"AREA_SQMI\": 0.15865742, \"E_TOTPOP\": 3650.0, \"SOCIO\": 1.1018, \"RACE\": 0.4098, \"HOUSING\": 1.899, \"SVI\": 5.5626, \"SVI_rank\": 0.3305, \"SOCIO_rank\": 0.3264, \"HOUSING_rank\": 0.1458, \"RACE_rank\": 0.4253, \"neighborho\": \"Outer Richmond\", \"tree_per_acre\": 5.46578596828311}, {\"GEOID\": 6075047903, \"tree_counts\": 630, \"AREA_SQMI\": 0.151403336, \"E_TOTPOP\": 4315.0, \"SOCIO\": 1.5876, \"RACE\": 0.4573, \"HOUSING\": 3.0633, \"SVI\": 7.5052, \"SVI_rank\": 0.6276, \"SOCIO_rank\": 0.4686, \"HOUSING_rank\": 0.75, \"RACE_rank\": 0.5187, \"neighborho\": \"Outer Richmond\", \"tree_per_acre\": 6.50167312033336}, {\"GEOID\": 6075060100, \"tree_counts\": 82, \"AREA_SQMI\": 2.355998651, \"E_TOTPOP\": 4073.0, \"SOCIO\": 0.7658, \"RACE\": 0.28, \"HOUSING\": 2.2036, \"SVI\": 4.9583, \"SVI_rank\": 0.2218, \"SOCIO_rank\": 0.1757, \"HOUSING_rank\": 0.2875, \"RACE_rank\": 0.2324, \"neighborho\": \"Presidio\", \"tree_per_acre\": 0.0543824589821465}, {\"GEOID\": 6075060502, \"tree_counts\": 209, \"AREA_SQMI\": 0.134684733, \"E_TOTPOP\": 3611.0, \"SOCIO\": 3.6486, \"RACE\": 0.9213, \"HOUSING\": 3.167, \"SVI\": 11.3422, \"SVI_rank\": 0.9958, \"SOCIO_rank\": 0.9707, \"HOUSING_rank\": 0.8, \"RACE_rank\": 0.971, \"neighborho\": \"Visitacion Valley\", \"tree_per_acre\": 2.4246437790391577}, {\"GEOID\": 6075060701, \"tree_counts\": 1134, \"AREA_SQMI\": 0.499039538, \"E_TOTPOP\": 6889.0, \"SOCIO\": 1.3964, \"RACE\": 0.4606, \"HOUSING\": 3.1813, \"SVI\": 7.1176, \"SVI_rank\": 0.5397, \"SOCIO_rank\": 0.4017, \"HOUSING_rank\": 0.8042, \"RACE_rank\": 0.5311, \"neighborho\": \"Mission Bay\", \"tree_per_acre\": 3.5505703758486566}, {\"GEOID\": 6075060703, \"tree_counts\": 369, \"AREA_SQMI\": 0.133859247, \"E_TOTPOP\": 5238.0, \"SOCIO\": 0.9955, \"RACE\": 0.4807, \"HOUSING\": 3.4844, \"SVI\": 5.8534, \"SVI_rank\": 0.3849, \"SOCIO_rank\": 0.2803, \"HOUSING_rank\": 0.8958, \"RACE_rank\": 0.5726, \"neighborho\": \"Mission Bay\", \"tree_per_acre\": 4.307229518480708}, {\"GEOID\": 6075061000, \"tree_counts\": 836, \"AREA_SQMI\": 0.840228223, \"E_TOTPOP\": 5008.0, \"SOCIO\": 2.2628, \"RACE\": 0.7674, \"HOUSING\": 2.6364, \"SVI\": 8.148, \"SVI_rank\": 0.7615, \"SOCIO_rank\": 0.728, \"HOUSING_rank\": 0.5458, \"RACE_rank\": 0.8693, \"neighborho\": \"Bayview Hunters Point\", \"tree_per_acre\": 1.55463713815288}, {\"GEOID\": 6075061200, \"tree_counts\": 868, \"AREA_SQMI\": 0.167937768, \"E_TOTPOP\": 3769.0, \"SOCIO\": 2.7747, \"RACE\": 0.7862, \"HOUSING\": 3.0286, \"SVI\": 9.567, \"SVI_rank\": 0.8912, \"SOCIO_rank\": 0.8536, \"HOUSING_rank\": 0.7292, \"RACE_rank\": 0.8797, \"neighborho\": \"Bayview Hunters Point\", \"tree_per_acre\": 8.075908213809296}, {\"GEOID\": 6075061506, \"tree_counts\": 183, \"AREA_SQMI\": 0.043588985, \"E_TOTPOP\": 4899.0, \"SOCIO\": 0.7, \"RACE\": 0.5274, \"HOUSING\": 1.9317, \"SVI\": 3.3763, \"SVI_rank\": 0.0502, \"SOCIO_rank\": 0.1381, \"HOUSING_rank\": 0.1708, \"RACE_rank\": 0.6515, \"neighborho\": \"Financial District/South Beach\", \"tree_per_acre\": 6.559856807860977}]}}, {\"mode\": \"vega-lite\"});\n",
       "</script>"
      ],
      "text/plain": [
       "alt.LayerChart(...)"
      ]
     },
     "execution_count": 13,
     "metadata": {},
     "output_type": "execute_result"
    }
   ],
   "source": [
    "line = base.transform_regression('SVI_rank','tree_per_acre').mark_line()\n",
    "(points + line).interactive()"
   ]
  },
  {
   "cell_type": "code",
   "execution_count": 17,
   "id": "55f72ec0-534a-472a-846a-682c5b990fce",
   "metadata": {
    "tags": []
   },
   "outputs": [],
   "source": [
    "source2 = pd.read_csv('/Users/tracy/svi_index/data/processed/potential_counts.csv')"
   ]
  },
  {
   "cell_type": "code",
   "execution_count": 63,
   "id": "92eafa54-23a8-4e34-9214-731cb51d1a72",
   "metadata": {
    "tags": []
   },
   "outputs": [],
   "source": [
    "source2 = source2.loc[source2['E_TOTPOP'] >= 5000]"
   ]
  },
  {
   "cell_type": "code",
   "execution_count": 64,
   "id": "cb74f167-2486-4e56-8cb5-129cecf8da4d",
   "metadata": {
    "tags": []
   },
   "outputs": [
    {
     "name": "stdout",
     "output_type": "stream",
     "text": [
      "<class 'pandas.core.frame.DataFrame'>\n",
      "Int64Index: 40 entries, 9 to 202\n",
      "Data columns (total 8 columns):\n",
      " #   Column         Non-Null Count  Dtype  \n",
      "---  ------         --------------  -----  \n",
      " 0   GEOID          40 non-null     int64  \n",
      " 1   tree_counts    40 non-null     int64  \n",
      " 2   AREA_SQMI      40 non-null     float64\n",
      " 3   E_TOTPOP       40 non-null     float64\n",
      " 4   SVI            40 non-null     float64\n",
      " 5   RPL_THEMES     40 non-null     float64\n",
      " 6   svi_rank       40 non-null     float64\n",
      " 7   tree_per_acre  40 non-null     float64\n",
      "dtypes: float64(6), int64(2)\n",
      "memory usage: 2.8 KB\n"
     ]
    }
   ],
   "source": [
    "source2.info()"
   ]
  },
  {
   "cell_type": "code",
   "execution_count": 65,
   "id": "e223e337-f6d5-49be-9653-272878884e0e",
   "metadata": {
    "tags": []
   },
   "outputs": [
    {
     "data": {
      "text/html": [
       "\n",
       "<div id=\"altair-viz-a237b103693c47bdbe5819c677b8c37d\"></div>\n",
       "<script type=\"text/javascript\">\n",
       "  var VEGA_DEBUG = (typeof VEGA_DEBUG == \"undefined\") ? {} : VEGA_DEBUG;\n",
       "  (function(spec, embedOpt){\n",
       "    let outputDiv = document.currentScript.previousElementSibling;\n",
       "    if (outputDiv.id !== \"altair-viz-a237b103693c47bdbe5819c677b8c37d\") {\n",
       "      outputDiv = document.getElementById(\"altair-viz-a237b103693c47bdbe5819c677b8c37d\");\n",
       "    }\n",
       "    const paths = {\n",
       "      \"vega\": \"https://cdn.jsdelivr.net/npm//vega@5?noext\",\n",
       "      \"vega-lib\": \"https://cdn.jsdelivr.net/npm//vega-lib?noext\",\n",
       "      \"vega-lite\": \"https://cdn.jsdelivr.net/npm//vega-lite@4.17.0?noext\",\n",
       "      \"vega-embed\": \"https://cdn.jsdelivr.net/npm//vega-embed@6?noext\",\n",
       "    };\n",
       "\n",
       "    function maybeLoadScript(lib, version) {\n",
       "      var key = `${lib.replace(\"-\", \"\")}_version`;\n",
       "      return (VEGA_DEBUG[key] == version) ?\n",
       "        Promise.resolve(paths[lib]) :\n",
       "        new Promise(function(resolve, reject) {\n",
       "          var s = document.createElement('script');\n",
       "          document.getElementsByTagName(\"head\")[0].appendChild(s);\n",
       "          s.async = true;\n",
       "          s.onload = () => {\n",
       "            VEGA_DEBUG[key] = version;\n",
       "            return resolve(paths[lib]);\n",
       "          };\n",
       "          s.onerror = () => reject(`Error loading script: ${paths[lib]}`);\n",
       "          s.src = paths[lib];\n",
       "        });\n",
       "    }\n",
       "\n",
       "    function showError(err) {\n",
       "      outputDiv.innerHTML = `<div class=\"error\" style=\"color:red;\">${err}</div>`;\n",
       "      throw err;\n",
       "    }\n",
       "\n",
       "    function displayChart(vegaEmbed) {\n",
       "      vegaEmbed(outputDiv, spec, embedOpt)\n",
       "        .catch(err => showError(`Javascript Error: ${err.message}<br>This usually means there's a typo in your chart specification. See the javascript console for the full traceback.`));\n",
       "    }\n",
       "\n",
       "    if(typeof define === \"function\" && define.amd) {\n",
       "      requirejs.config({paths});\n",
       "      require([\"vega-embed\"], displayChart, err => showError(`Error loading script: ${err.message}`));\n",
       "    } else {\n",
       "      maybeLoadScript(\"vega\", \"5\")\n",
       "        .then(() => maybeLoadScript(\"vega-lite\", \"4.17.0\"))\n",
       "        .then(() => maybeLoadScript(\"vega-embed\", \"6\"))\n",
       "        .catch(showError)\n",
       "        .then(() => displayChart(vegaEmbed));\n",
       "    }\n",
       "  })({\"config\": {\"view\": {\"continuousWidth\": 400, \"continuousHeight\": 300}}, \"data\": {\"name\": \"data-16dc7cbdc7728f5ff7db96ecf344dcff\"}, \"mark\": {\"type\": \"circle\", \"size\": 60}, \"encoding\": {\"color\": {\"field\": \"tree_counts\", \"type\": \"quantitative\"}, \"tooltip\": [{\"field\": \"GEOID\", \"type\": \"quantitative\"}, {\"field\": \"E_TOTPOP\", \"type\": \"quantitative\"}, {\"field\": \"svi_rank\", \"type\": \"quantitative\"}, {\"field\": \"tree_counts\", \"type\": \"quantitative\"}], \"x\": {\"field\": \"svi_rank\", \"type\": \"quantitative\"}, \"y\": {\"field\": \"tree_counts\", \"type\": \"quantitative\"}}, \"selection\": {\"selector014\": {\"type\": \"interval\", \"bind\": \"scales\", \"encodings\": [\"x\", \"y\"]}}, \"$schema\": \"https://vega.github.io/schema/vega-lite/v4.17.0.json\", \"datasets\": {\"data-16dc7cbdc7728f5ff7db96ecf344dcff\": [{\"GEOID\": 6075010800, \"tree_counts\": 74, \"AREA_SQMI\": 0.087286851, \"E_TOTPOP\": 5013.0, \"SVI\": 6.4994, \"RPL_THEMES\": 0.3429, \"svi_rank\": 0.4812, \"tree_per_acre\": 1.3246554168851847}, {\"GEOID\": 6075015701, \"tree_counts\": 3, \"AREA_SQMI\": 0.185024326, \"E_TOTPOP\": 5318.0, \"SVI\": 6.6304, \"RPL_THEMES\": 0.3612, \"svi_rank\": 0.4895, \"tree_per_acre\": 0.0253345065556406}, {\"GEOID\": 6075016500, \"tree_counts\": 2, \"AREA_SQMI\": 0.143029941, \"E_TOTPOP\": 5654.0, \"SVI\": 5.8966, \"RPL_THEMES\": 0.2663, \"svi_rank\": 0.3975, \"tree_per_acre\": 0.0218485722510365}, {\"GEOID\": 6075016700, \"tree_counts\": 58, \"AREA_SQMI\": 0.189459093, \"E_TOTPOP\": 5427.0, \"SVI\": 4.1441, \"RPL_THEMES\": 0.0679, \"svi_rank\": 0.1046, \"tree_per_acre\": 0.4783354473252967}, {\"GEOID\": 6075021500, \"tree_counts\": 173, \"AREA_SQMI\": 0.183151345, \"E_TOTPOP\": 5325.0, \"SVI\": 4.1918, \"RPL_THEMES\": 0.0712, \"svi_rank\": 0.1088, \"tree_per_acre\": 1.475896887352916}, {\"GEOID\": 6075022801, \"tree_counts\": 234, \"AREA_SQMI\": 0.223188964, \"E_TOTPOP\": 5672.0, \"SVI\": 8.0067, \"RPL_THEMES\": 0.5456, \"svi_rank\": 0.7406, \"tree_per_acre\": 1.6381858378983292}, {\"GEOID\": 6075022803, \"tree_counts\": 137, \"AREA_SQMI\": 0.108911652, \"E_TOTPOP\": 5265.0, \"SVI\": 8.6334, \"RPL_THEMES\": 0.6269, \"svi_rank\": 0.8033, \"tree_per_acre\": 1.9654692227053907}, {\"GEOID\": 6075023001, \"tree_counts\": 170, \"AREA_SQMI\": 0.257238141, \"E_TOTPOP\": 5125.0, \"SVI\": 9.5722, \"RPL_THEMES\": 0.7394, \"svi_rank\": 0.8954, \"tree_per_acre\": 1.0326034816120058}, {\"GEOID\": 6075025200, \"tree_counts\": 99, \"AREA_SQMI\": 0.253687547, \"E_TOTPOP\": 5402.0, \"SVI\": 4.744, \"RPL_THEMES\": 0.1234, \"svi_rank\": 0.1967, \"tree_per_acre\": 0.6097559845931263}, {\"GEOID\": 6075025600, \"tree_counts\": 262, \"AREA_SQMI\": 0.222891665, \"E_TOTPOP\": 5114.0, \"SVI\": 7.8741, \"RPL_THEMES\": 0.5274, \"svi_rank\": 0.7155, \"tree_per_acre\": 1.8366545918170607}, {\"GEOID\": 6075025701, \"tree_counts\": 191, \"AREA_SQMI\": 0.236487475, \"E_TOTPOP\": 5427.0, \"SVI\": 7.4674, \"RPL_THEMES\": 0.4719, \"svi_rank\": 0.6151, \"tree_per_acre\": 1.2619590107256209}, {\"GEOID\": 6075026001, \"tree_counts\": 349, \"AREA_SQMI\": 0.157257028, \"E_TOTPOP\": 6708.0, \"SVI\": 7.9749, \"RPL_THEMES\": 0.5401, \"svi_rank\": 0.7197, \"tree_per_acre\": 3.4676510610387474}, {\"GEOID\": 6075026003, \"tree_counts\": 440, \"AREA_SQMI\": 0.157311082, \"E_TOTPOP\": 5336.0, \"SVI\": 7.173, \"RPL_THEMES\": 0.4347, \"svi_rank\": 0.5523, \"tree_per_acre\": 4.370321475508001}, {\"GEOID\": 6075026100, \"tree_counts\": 656, \"AREA_SQMI\": 0.290042911, \"E_TOTPOP\": 7518.0, \"SVI\": 7.4902, \"RPL_THEMES\": 0.4747, \"svi_rank\": 0.6234, \"tree_per_acre\": 3.533959842238654}, {\"GEOID\": 6075026301, \"tree_counts\": 511, \"AREA_SQMI\": 0.141986694, \"E_TOTPOP\": 5561.0, \"SVI\": 9.87, \"RPL_THEMES\": 0.777, \"svi_rank\": 0.9079, \"tree_per_acre\": 5.623326225202483}, {\"GEOID\": 6075026302, \"tree_counts\": 100, \"AREA_SQMI\": 0.28988654, \"E_TOTPOP\": 5332.0, \"SVI\": 9.0334, \"RPL_THEMES\": 0.6748, \"svi_rank\": 0.8368, \"tree_per_acre\": 0.539003984110473}, {\"GEOID\": 6075026303, \"tree_counts\": 309, \"AREA_SQMI\": 0.165001462, \"E_TOTPOP\": 5053.0, \"SVI\": 8.0982, \"RPL_THEMES\": 0.5574, \"svi_rank\": 0.7531, \"tree_per_acre\": 2.926110436524496}, {\"GEOID\": 6075026402, \"tree_counts\": 14, \"AREA_SQMI\": 0.153776318, \"E_TOTPOP\": 5758.0, \"SVI\": 6.2172, \"RPL_THEMES\": 0.3071, \"svi_rank\": 0.431, \"tree_per_acre\": 0.1422520729102123}, {\"GEOID\": 6075030101, \"tree_counts\": 96, \"AREA_SQMI\": 0.13510597, \"E_TOTPOP\": 5252.0, \"SVI\": 4.924, \"RPL_THEMES\": 0.1421, \"svi_rank\": 0.2134, \"tree_per_acre\": 1.1102396141340016}, {\"GEOID\": 6075030301, \"tree_counts\": 511, \"AREA_SQMI\": 0.291039827, \"E_TOTPOP\": 5649.0, \"SVI\": 4.7988, \"RPL_THEMES\": 0.1285, \"svi_rank\": 0.205, \"tree_per_acre\": 2.7433960095090355}, {\"GEOID\": 6075030400, \"tree_counts\": 592, \"AREA_SQMI\": 0.37543323, \"E_TOTPOP\": 5403.0, \"SVI\": 4.547, \"RPL_THEMES\": 0.1038, \"svi_rank\": 0.159, \"tree_per_acre\": 2.4638202643916203}, {\"GEOID\": 6075030700, \"tree_counts\": 370, \"AREA_SQMI\": 0.550962149, \"E_TOTPOP\": 6895.0, \"SVI\": 4.2743, \"RPL_THEMES\": 0.0791, \"svi_rank\": 0.1255, \"tree_per_acre\": 1.049300756956355}, {\"GEOID\": 6075030800, \"tree_counts\": 506, \"AREA_SQMI\": 0.479890809, \"E_TOTPOP\": 6297.0, \"SVI\": 4.9867, \"RPL_THEMES\": 0.1508, \"svi_rank\": 0.2301, \"tree_per_acre\": 1.6475101943450643}, {\"GEOID\": 6075030900, \"tree_counts\": 551, \"AREA_SQMI\": 0.726398017, \"E_TOTPOP\": 6803.0, \"SVI\": 5.2927, \"RPL_THEMES\": 0.1862, \"svi_rank\": 0.2887, \"tree_per_acre\": 1.185214551597544}, {\"GEOID\": 6075031100, \"tree_counts\": 740, \"AREA_SQMI\": 0.4138859, \"E_TOTPOP\": 6530.0, \"SVI\": 4.7975, \"RPL_THEMES\": 0.1283, \"svi_rank\": 0.2008, \"tree_per_acre\": 2.7936443353107703}, {\"GEOID\": 6075031201, \"tree_counts\": 456, \"AREA_SQMI\": 0.198013955, \"E_TOTPOP\": 7025.0, \"SVI\": 8.4359, \"RPL_THEMES\": 0.6028, \"svi_rank\": 0.7908, \"tree_per_acre\": 3.598231245873555}, {\"GEOID\": 6075031302, \"tree_counts\": 54, \"AREA_SQMI\": 0.264792613, \"E_TOTPOP\": 5635.0, \"SVI\": 7.4167, \"RPL_THEMES\": 0.466, \"svi_rank\": 0.5983, \"tree_per_acre\": 0.3186455960536935}, {\"GEOID\": 6075032601, \"tree_counts\": 1, \"AREA_SQMI\": 0.161267856, \"E_TOTPOP\": 5196.0, \"SVI\": 7.6227, \"RPL_THEMES\": 0.493, \"svi_rank\": 0.6569, \"tree_per_acre\": 0.0096888495869877}, {\"GEOID\": 6075032700, \"tree_counts\": 1, \"AREA_SQMI\": 0.326143062, \"E_TOTPOP\": 7242.0, \"SVI\": 5.4995, \"RPL_THEMES\": 0.2118, \"svi_rank\": 0.3264, \"tree_per_acre\": 0.0047908423696592}, {\"GEOID\": 6075032901, \"tree_counts\": 5, \"AREA_SQMI\": 0.259421934, \"E_TOTPOP\": 5335.0, \"SVI\": 6.1967, \"RPL_THEMES\": 0.3038, \"svi_rank\": 0.4268, \"tree_per_acre\": 0.0301150326016766}, {\"GEOID\": 6075035201, \"tree_counts\": 1, \"AREA_SQMI\": 0.362841285, \"E_TOTPOP\": 5467.0, \"SVI\": 7.6435, \"RPL_THEMES\": 0.4959, \"svi_rank\": 0.6611, \"tree_per_acre\": 0.0043062905589698}, {\"GEOID\": 6075035300, \"tree_counts\": 1, \"AREA_SQMI\": 0.43332073, \"E_TOTPOP\": 7539.0, \"SVI\": 5.827, \"RPL_THEMES\": 0.2568, \"svi_rank\": 0.3766, \"tree_per_acre\": 0.0036058741062307}, {\"GEOID\": 6075035400, \"tree_counts\": 1, \"AREA_SQMI\": 0.397994328, \"E_TOTPOP\": 7332.0, \"SVI\": 7.9974, \"RPL_THEMES\": 0.5446, \"svi_rank\": 0.7364, \"tree_per_acre\": 0.0039259353464956}, {\"GEOID\": 6075040200, \"tree_counts\": 243, \"AREA_SQMI\": 0.20520163, \"E_TOTPOP\": 6144.0, \"SVI\": 6.7411, \"RPL_THEMES\": 0.3775, \"svi_rank\": 0.5063, \"tree_per_acre\": 1.8503142494530864}, {\"GEOID\": 6075042700, \"tree_counts\": 223, \"AREA_SQMI\": 0.158068614, \"E_TOTPOP\": 5276.0, \"SVI\": 8.0624, \"RPL_THEMES\": 0.5526, \"svi_rank\": 0.749, \"tree_per_acre\": 2.2043433619276245}, {\"GEOID\": 6075045100, \"tree_counts\": 267, \"AREA_SQMI\": 0.148440389, \"E_TOTPOP\": 5289.0, \"SVI\": 5.608, \"RPL_THEMES\": 0.2272, \"svi_rank\": 0.3431, \"tree_per_acre\": 2.8104716163200028}, {\"GEOID\": 6075047600, \"tree_counts\": 215, \"AREA_SQMI\": 0.205086958, \"E_TOTPOP\": 5418.0, \"SVI\": 5.6934, \"RPL_THEMES\": 0.2391, \"svi_rank\": 0.3598, \"tree_per_acre\": 1.6380246860943737}, {\"GEOID\": 6075060701, \"tree_counts\": 87, \"AREA_SQMI\": 0.499039538, \"E_TOTPOP\": 6889.0, \"SVI\": 7.1176, \"RPL_THEMES\": 0.4267, \"svi_rank\": 0.5397, \"tree_per_acre\": 0.2723982563481774}, {\"GEOID\": 6075060703, \"tree_counts\": 10, \"AREA_SQMI\": 0.133859247, \"E_TOTPOP\": 5238.0, \"SVI\": 5.8534, \"RPL_THEMES\": 0.2598, \"svi_rank\": 0.3849, \"tree_per_acre\": 0.1167270872216993}, {\"GEOID\": 6075061000, \"tree_counts\": 197, \"AREA_SQMI\": 0.840228223, \"E_TOTPOP\": 5008.0, \"SVI\": 8.148, \"RPL_THEMES\": 0.5639, \"svi_rank\": 0.7615, \"tree_per_acre\": 0.3663439189188007}]}}, {\"mode\": \"vega-lite\"});\n",
       "</script>"
      ],
      "text/plain": [
       "alt.Chart(...)"
      ]
     },
     "execution_count": 65,
     "metadata": {},
     "output_type": "execute_result"
    }
   ],
   "source": [
    "alt.Chart(source2).mark_circle(size=60).encode(\n",
    "    x='svi_rank',\n",
    "    y='tree_counts',\n",
    "    color='tree_counts',\n",
    "    tooltip=['GEOID', 'E_TOTPOP', 'svi_rank', 'tree_counts']\n",
    ").interactive()"
   ]
  },
  {
   "cell_type": "code",
   "execution_count": null,
   "id": "e7e5d1b6-5bf1-4777-a7c1-e36676d1c272",
   "metadata": {},
   "outputs": [],
   "source": []
  }
 ],
 "metadata": {
  "kernelspec": {
   "display_name": "Python 3 (ipykernel)",
   "language": "python",
   "name": "python3"
  },
  "language_info": {
   "codemirror_mode": {
    "name": "ipython",
    "version": 3
   },
   "file_extension": ".py",
   "mimetype": "text/x-python",
   "name": "python",
   "nbconvert_exporter": "python",
   "pygments_lexer": "ipython3",
   "version": "3.9.13"
  }
 },
 "nbformat": 4,
 "nbformat_minor": 5
}
